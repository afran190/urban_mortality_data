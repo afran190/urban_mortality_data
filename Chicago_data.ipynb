{
 "cells": [
  {
   "cell_type": "code",
   "execution_count": 55,
   "id": "7cc2beeb-9317-4469-8808-8d747e2d8751",
   "metadata": {},
   "outputs": [],
   "source": [
    "#Chicago Inmate Death Data: None"
   ]
  },
  {
   "cell_type": "code",
   "execution_count": 1,
   "id": "0e9f8b80-ca1e-46ea-8d66-4821839e0420",
   "metadata": {},
   "outputs": [],
   "source": [
    "#Chicago COVID-19 Mortality Data; \n",
    "import pandas as pd\n",
    "from sodapy import Socrata\n",
    "\n",
    "client = Socrata(\"data.cityofchicago.org\",\n",
    "                 \"Y4HZT9oYB9HgwoYrJfSANZYJB\",\n",
    "                 username=\"afran190@pratt.edu\",\n",
    "                 password=\"Zeusie1219055*\")\n",
    "\n",
    "results_covid = client.get(\"yhhz-zm2v\", limit=2000)\n",
    "\n",
    "results_df_covid = pd.DataFrame.from_records(results_covid)"
   ]
  },
  {
   "cell_type": "code",
   "execution_count": 3,
   "id": "8f3cc241-e005-45f9-a13f-6b23cbd02023",
   "metadata": {},
   "outputs": [
    {
     "data": {
      "text/html": [
       "<div>\n",
       "<style scoped>\n",
       "    .dataframe tbody tr th:only-of-type {\n",
       "        vertical-align: middle;\n",
       "    }\n",
       "\n",
       "    .dataframe tbody tr th {\n",
       "        vertical-align: top;\n",
       "    }\n",
       "\n",
       "    .dataframe thead th {\n",
       "        text-align: right;\n",
       "    }\n",
       "</style>\n",
       "<table border=\"1\" class=\"dataframe\">\n",
       "  <thead>\n",
       "    <tr style=\"text-align: right;\">\n",
       "      <th></th>\n",
       "      <th>zip_code</th>\n",
       "      <th>week_number</th>\n",
       "      <th>week_start</th>\n",
       "      <th>week_end</th>\n",
       "      <th>cases_weekly</th>\n",
       "      <th>cases_cumulative</th>\n",
       "      <th>case_rate_weekly</th>\n",
       "      <th>case_rate_cumulative</th>\n",
       "      <th>tests_weekly</th>\n",
       "      <th>tests_cumulative</th>\n",
       "      <th>...</th>\n",
       "      <th>death_rate_weekly</th>\n",
       "      <th>death_rate_cumulative</th>\n",
       "      <th>population</th>\n",
       "      <th>row_id</th>\n",
       "      <th>zip_code_location</th>\n",
       "      <th>:@computed_region_rpca_8um6</th>\n",
       "      <th>:@computed_region_vrxf_vc4k</th>\n",
       "      <th>:@computed_region_6mkv_f3dw</th>\n",
       "      <th>:@computed_region_bdys_3d7i</th>\n",
       "      <th>:@computed_region_43wa_7qmu</th>\n",
       "    </tr>\n",
       "  </thead>\n",
       "  <tbody>\n",
       "    <tr>\n",
       "      <th>0</th>\n",
       "      <td>60612</td>\n",
       "      <td>52</td>\n",
       "      <td>2021-12-26T00:00:00.000</td>\n",
       "      <td>2022-01-01T00:00:00.000</td>\n",
       "      <td>743</td>\n",
       "      <td>6287</td>\n",
       "      <td>2165.5</td>\n",
       "      <td>18323.6</td>\n",
       "      <td>3628</td>\n",
       "      <td>141906</td>\n",
       "      <td>...</td>\n",
       "      <td>5.8</td>\n",
       "      <td>241.9</td>\n",
       "      <td>34311</td>\n",
       "      <td>60612-2021-52</td>\n",
       "      <td>{'type': 'Point', 'coordinates': [-87.687011, ...</td>\n",
       "      <td>28</td>\n",
       "      <td>29</td>\n",
       "      <td>21184</td>\n",
       "      <td>785</td>\n",
       "      <td>46</td>\n",
       "    </tr>\n",
       "    <tr>\n",
       "      <th>1</th>\n",
       "      <td>60612</td>\n",
       "      <td>1</td>\n",
       "      <td>2022-01-02T00:00:00.000</td>\n",
       "      <td>2022-01-08T00:00:00.000</td>\n",
       "      <td>603</td>\n",
       "      <td>6890</td>\n",
       "      <td>1757.5</td>\n",
       "      <td>20081</td>\n",
       "      <td>4423</td>\n",
       "      <td>146329</td>\n",
       "      <td>...</td>\n",
       "      <td>17.5</td>\n",
       "      <td>259.4</td>\n",
       "      <td>34311</td>\n",
       "      <td>60612-2022-1</td>\n",
       "      <td>{'type': 'Point', 'coordinates': [-87.687011, ...</td>\n",
       "      <td>28</td>\n",
       "      <td>29</td>\n",
       "      <td>21184</td>\n",
       "      <td>785</td>\n",
       "      <td>46</td>\n",
       "    </tr>\n",
       "    <tr>\n",
       "      <th>2</th>\n",
       "      <td>60612</td>\n",
       "      <td>14</td>\n",
       "      <td>2022-04-03T00:00:00.000</td>\n",
       "      <td>2022-04-09T00:00:00.000</td>\n",
       "      <td>31</td>\n",
       "      <td>7670</td>\n",
       "      <td>90.4</td>\n",
       "      <td>22354.3</td>\n",
       "      <td>2121</td>\n",
       "      <td>181657</td>\n",
       "      <td>...</td>\n",
       "      <td>0</td>\n",
       "      <td>294.4</td>\n",
       "      <td>34311</td>\n",
       "      <td>60612-2022-14</td>\n",
       "      <td>{'type': 'Point', 'coordinates': [-87.687011, ...</td>\n",
       "      <td>28</td>\n",
       "      <td>29</td>\n",
       "      <td>21184</td>\n",
       "      <td>785</td>\n",
       "      <td>46</td>\n",
       "    </tr>\n",
       "    <tr>\n",
       "      <th>3</th>\n",
       "      <td>60612</td>\n",
       "      <td>17</td>\n",
       "      <td>2022-04-24T00:00:00.000</td>\n",
       "      <td>2022-04-30T00:00:00.000</td>\n",
       "      <td>82</td>\n",
       "      <td>7852</td>\n",
       "      <td>239</td>\n",
       "      <td>22884.8</td>\n",
       "      <td>2427</td>\n",
       "      <td>187641</td>\n",
       "      <td>...</td>\n",
       "      <td>0</td>\n",
       "      <td>294.4</td>\n",
       "      <td>34311</td>\n",
       "      <td>60612-2022-17</td>\n",
       "      <td>{'type': 'Point', 'coordinates': [-87.687011, ...</td>\n",
       "      <td>28</td>\n",
       "      <td>29</td>\n",
       "      <td>21184</td>\n",
       "      <td>785</td>\n",
       "      <td>46</td>\n",
       "    </tr>\n",
       "    <tr>\n",
       "      <th>4</th>\n",
       "      <td>60612</td>\n",
       "      <td>18</td>\n",
       "      <td>2022-05-01T00:00:00.000</td>\n",
       "      <td>2022-05-07T00:00:00.000</td>\n",
       "      <td>86</td>\n",
       "      <td>7938</td>\n",
       "      <td>250.6</td>\n",
       "      <td>23135.4</td>\n",
       "      <td>2426</td>\n",
       "      <td>190067</td>\n",
       "      <td>...</td>\n",
       "      <td>0</td>\n",
       "      <td>294.4</td>\n",
       "      <td>34311</td>\n",
       "      <td>60612-2022-18</td>\n",
       "      <td>{'type': 'Point', 'coordinates': [-87.687011, ...</td>\n",
       "      <td>28</td>\n",
       "      <td>29</td>\n",
       "      <td>21184</td>\n",
       "      <td>785</td>\n",
       "      <td>46</td>\n",
       "    </tr>\n",
       "    <tr>\n",
       "      <th>...</th>\n",
       "      <td>...</td>\n",
       "      <td>...</td>\n",
       "      <td>...</td>\n",
       "      <td>...</td>\n",
       "      <td>...</td>\n",
       "      <td>...</td>\n",
       "      <td>...</td>\n",
       "      <td>...</td>\n",
       "      <td>...</td>\n",
       "      <td>...</td>\n",
       "      <td>...</td>\n",
       "      <td>...</td>\n",
       "      <td>...</td>\n",
       "      <td>...</td>\n",
       "      <td>...</td>\n",
       "      <td>...</td>\n",
       "      <td>...</td>\n",
       "      <td>...</td>\n",
       "      <td>...</td>\n",
       "      <td>...</td>\n",
       "      <td>...</td>\n",
       "    </tr>\n",
       "    <tr>\n",
       "      <th>1995</th>\n",
       "      <td>60634</td>\n",
       "      <td>38</td>\n",
       "      <td>2023-09-17T00:00:00.000</td>\n",
       "      <td>2023-09-23T00:00:00.000</td>\n",
       "      <td>27</td>\n",
       "      <td>25974</td>\n",
       "      <td>35.5</td>\n",
       "      <td>34178.6</td>\n",
       "      <td>311</td>\n",
       "      <td>380274</td>\n",
       "      <td>...</td>\n",
       "      <td>0</td>\n",
       "      <td>338.2</td>\n",
       "      <td>75995</td>\n",
       "      <td>60634-2023-38</td>\n",
       "      <td>{'type': 'Point', 'coordinates': [-87.797373, ...</td>\n",
       "      <td>52</td>\n",
       "      <td>17</td>\n",
       "      <td>22254</td>\n",
       "      <td>396</td>\n",
       "      <td>19</td>\n",
       "    </tr>\n",
       "    <tr>\n",
       "      <th>1996</th>\n",
       "      <td>60634</td>\n",
       "      <td>39</td>\n",
       "      <td>2023-09-24T00:00:00.000</td>\n",
       "      <td>2023-09-30T00:00:00.000</td>\n",
       "      <td>29</td>\n",
       "      <td>26003</td>\n",
       "      <td>38.2</td>\n",
       "      <td>34216.7</td>\n",
       "      <td>335</td>\n",
       "      <td>380609</td>\n",
       "      <td>...</td>\n",
       "      <td>0</td>\n",
       "      <td>338.2</td>\n",
       "      <td>75995</td>\n",
       "      <td>60634-2023-39</td>\n",
       "      <td>{'type': 'Point', 'coordinates': [-87.797373, ...</td>\n",
       "      <td>52</td>\n",
       "      <td>17</td>\n",
       "      <td>22254</td>\n",
       "      <td>396</td>\n",
       "      <td>19</td>\n",
       "    </tr>\n",
       "    <tr>\n",
       "      <th>1997</th>\n",
       "      <td>60634</td>\n",
       "      <td>40</td>\n",
       "      <td>2023-10-01T00:00:00.000</td>\n",
       "      <td>2023-10-07T00:00:00.000</td>\n",
       "      <td>30</td>\n",
       "      <td>26033</td>\n",
       "      <td>39.5</td>\n",
       "      <td>34256.2</td>\n",
       "      <td>183</td>\n",
       "      <td>380792</td>\n",
       "      <td>...</td>\n",
       "      <td>0</td>\n",
       "      <td>338.2</td>\n",
       "      <td>75995</td>\n",
       "      <td>60634-2023-40</td>\n",
       "      <td>{'type': 'Point', 'coordinates': [-87.797373, ...</td>\n",
       "      <td>52</td>\n",
       "      <td>17</td>\n",
       "      <td>22254</td>\n",
       "      <td>396</td>\n",
       "      <td>19</td>\n",
       "    </tr>\n",
       "    <tr>\n",
       "      <th>1998</th>\n",
       "      <td>60634</td>\n",
       "      <td>41</td>\n",
       "      <td>2023-10-08T00:00:00.000</td>\n",
       "      <td>2023-10-14T00:00:00.000</td>\n",
       "      <td>37</td>\n",
       "      <td>26070</td>\n",
       "      <td>48.7</td>\n",
       "      <td>34304.9</td>\n",
       "      <td>201</td>\n",
       "      <td>380993</td>\n",
       "      <td>...</td>\n",
       "      <td>0</td>\n",
       "      <td>338.2</td>\n",
       "      <td>75995</td>\n",
       "      <td>60634-2023-41</td>\n",
       "      <td>{'type': 'Point', 'coordinates': [-87.797373, ...</td>\n",
       "      <td>52</td>\n",
       "      <td>17</td>\n",
       "      <td>22254</td>\n",
       "      <td>396</td>\n",
       "      <td>19</td>\n",
       "    </tr>\n",
       "    <tr>\n",
       "      <th>1999</th>\n",
       "      <td>60629</td>\n",
       "      <td>23</td>\n",
       "      <td>2023-06-04T00:00:00.000</td>\n",
       "      <td>2023-06-10T00:00:00.000</td>\n",
       "      <td>8</td>\n",
       "      <td>35002</td>\n",
       "      <td>7.2</td>\n",
       "      <td>31293.7</td>\n",
       "      <td>576</td>\n",
       "      <td>529999</td>\n",
       "      <td>...</td>\n",
       "      <td>0</td>\n",
       "      <td>320.1</td>\n",
       "      <td>111850</td>\n",
       "      <td>60629-2023-23</td>\n",
       "      <td>{'type': 'Point', 'coordinates': [-87.711565, ...</td>\n",
       "      <td>58</td>\n",
       "      <td>64</td>\n",
       "      <td>21867</td>\n",
       "      <td>293</td>\n",
       "      <td>6</td>\n",
       "    </tr>\n",
       "  </tbody>\n",
       "</table>\n",
       "<p>2000 rows × 26 columns</p>\n",
       "</div>"
      ],
      "text/plain": [
       "     zip_code week_number               week_start                 week_end  \\\n",
       "0       60612          52  2021-12-26T00:00:00.000  2022-01-01T00:00:00.000   \n",
       "1       60612           1  2022-01-02T00:00:00.000  2022-01-08T00:00:00.000   \n",
       "2       60612          14  2022-04-03T00:00:00.000  2022-04-09T00:00:00.000   \n",
       "3       60612          17  2022-04-24T00:00:00.000  2022-04-30T00:00:00.000   \n",
       "4       60612          18  2022-05-01T00:00:00.000  2022-05-07T00:00:00.000   \n",
       "...       ...         ...                      ...                      ...   \n",
       "1995    60634          38  2023-09-17T00:00:00.000  2023-09-23T00:00:00.000   \n",
       "1996    60634          39  2023-09-24T00:00:00.000  2023-09-30T00:00:00.000   \n",
       "1997    60634          40  2023-10-01T00:00:00.000  2023-10-07T00:00:00.000   \n",
       "1998    60634          41  2023-10-08T00:00:00.000  2023-10-14T00:00:00.000   \n",
       "1999    60629          23  2023-06-04T00:00:00.000  2023-06-10T00:00:00.000   \n",
       "\n",
       "     cases_weekly cases_cumulative case_rate_weekly case_rate_cumulative  \\\n",
       "0             743             6287           2165.5              18323.6   \n",
       "1             603             6890           1757.5                20081   \n",
       "2              31             7670             90.4              22354.3   \n",
       "3              82             7852              239              22884.8   \n",
       "4              86             7938            250.6              23135.4   \n",
       "...           ...              ...              ...                  ...   \n",
       "1995           27            25974             35.5              34178.6   \n",
       "1996           29            26003             38.2              34216.7   \n",
       "1997           30            26033             39.5              34256.2   \n",
       "1998           37            26070             48.7              34304.9   \n",
       "1999            8            35002              7.2              31293.7   \n",
       "\n",
       "     tests_weekly tests_cumulative  ... death_rate_weekly  \\\n",
       "0            3628           141906  ...               5.8   \n",
       "1            4423           146329  ...              17.5   \n",
       "2            2121           181657  ...                 0   \n",
       "3            2427           187641  ...                 0   \n",
       "4            2426           190067  ...                 0   \n",
       "...           ...              ...  ...               ...   \n",
       "1995          311           380274  ...                 0   \n",
       "1996          335           380609  ...                 0   \n",
       "1997          183           380792  ...                 0   \n",
       "1998          201           380993  ...                 0   \n",
       "1999          576           529999  ...                 0   \n",
       "\n",
       "     death_rate_cumulative population         row_id  \\\n",
       "0                    241.9      34311  60612-2021-52   \n",
       "1                    259.4      34311   60612-2022-1   \n",
       "2                    294.4      34311  60612-2022-14   \n",
       "3                    294.4      34311  60612-2022-17   \n",
       "4                    294.4      34311  60612-2022-18   \n",
       "...                    ...        ...            ...   \n",
       "1995                 338.2      75995  60634-2023-38   \n",
       "1996                 338.2      75995  60634-2023-39   \n",
       "1997                 338.2      75995  60634-2023-40   \n",
       "1998                 338.2      75995  60634-2023-41   \n",
       "1999                 320.1     111850  60629-2023-23   \n",
       "\n",
       "                                      zip_code_location  \\\n",
       "0     {'type': 'Point', 'coordinates': [-87.687011, ...   \n",
       "1     {'type': 'Point', 'coordinates': [-87.687011, ...   \n",
       "2     {'type': 'Point', 'coordinates': [-87.687011, ...   \n",
       "3     {'type': 'Point', 'coordinates': [-87.687011, ...   \n",
       "4     {'type': 'Point', 'coordinates': [-87.687011, ...   \n",
       "...                                                 ...   \n",
       "1995  {'type': 'Point', 'coordinates': [-87.797373, ...   \n",
       "1996  {'type': 'Point', 'coordinates': [-87.797373, ...   \n",
       "1997  {'type': 'Point', 'coordinates': [-87.797373, ...   \n",
       "1998  {'type': 'Point', 'coordinates': [-87.797373, ...   \n",
       "1999  {'type': 'Point', 'coordinates': [-87.711565, ...   \n",
       "\n",
       "     :@computed_region_rpca_8um6 :@computed_region_vrxf_vc4k  \\\n",
       "0                             28                          29   \n",
       "1                             28                          29   \n",
       "2                             28                          29   \n",
       "3                             28                          29   \n",
       "4                             28                          29   \n",
       "...                          ...                         ...   \n",
       "1995                          52                          17   \n",
       "1996                          52                          17   \n",
       "1997                          52                          17   \n",
       "1998                          52                          17   \n",
       "1999                          58                          64   \n",
       "\n",
       "     :@computed_region_6mkv_f3dw :@computed_region_bdys_3d7i  \\\n",
       "0                          21184                         785   \n",
       "1                          21184                         785   \n",
       "2                          21184                         785   \n",
       "3                          21184                         785   \n",
       "4                          21184                         785   \n",
       "...                          ...                         ...   \n",
       "1995                       22254                         396   \n",
       "1996                       22254                         396   \n",
       "1997                       22254                         396   \n",
       "1998                       22254                         396   \n",
       "1999                       21867                         293   \n",
       "\n",
       "     :@computed_region_43wa_7qmu  \n",
       "0                             46  \n",
       "1                             46  \n",
       "2                             46  \n",
       "3                             46  \n",
       "4                             46  \n",
       "...                          ...  \n",
       "1995                          19  \n",
       "1996                          19  \n",
       "1997                          19  \n",
       "1998                          19  \n",
       "1999                           6  \n",
       "\n",
       "[2000 rows x 26 columns]"
      ]
     },
     "execution_count": 3,
     "metadata": {},
     "output_type": "execute_result"
    }
   ],
   "source": [
    "results_df_covid"
   ]
  },
  {
   "cell_type": "code",
   "execution_count": 5,
   "id": "2b592dc2-65a2-48e3-a04d-e6129c6cbb95",
   "metadata": {},
   "outputs": [],
   "source": [
    "results_df_covid.to_csv('Chicago_covid_data_unclean.csv')"
   ]
  },
  {
   "cell_type": "code",
   "execution_count": 51,
   "id": "ecf1a478-b71f-45aa-a843-1edd1197cab6",
   "metadata": {},
   "outputs": [],
   "source": [
    "#Data Cleanup OpenRefine:\n",
    "#cleaned dataset by removing all columns that did not relate to total case count and deaths "
   ]
  },
  {
   "cell_type": "code",
   "execution_count": 9,
   "id": "518a610a-ccaa-4cb8-bc99-c966d9830f3e",
   "metadata": {},
   "outputs": [
    {
     "data": {
      "text/html": [
       "<div>\n",
       "<style scoped>\n",
       "    .dataframe tbody tr th:only-of-type {\n",
       "        vertical-align: middle;\n",
       "    }\n",
       "\n",
       "    .dataframe tbody tr th {\n",
       "        vertical-align: top;\n",
       "    }\n",
       "\n",
       "    .dataframe thead th {\n",
       "        text-align: right;\n",
       "    }\n",
       "</style>\n",
       "<table border=\"1\" class=\"dataframe\">\n",
       "  <thead>\n",
       "    <tr style=\"text-align: right;\">\n",
       "      <th></th>\n",
       "      <th>zip_code</th>\n",
       "      <th>week_number</th>\n",
       "      <th>cases_cumulative</th>\n",
       "      <th>case_rate_cumulative</th>\n",
       "      <th>deaths_cumulative</th>\n",
       "      <th>death_rate_cumulative</th>\n",
       "      <th>population</th>\n",
       "    </tr>\n",
       "  </thead>\n",
       "  <tbody>\n",
       "    <tr>\n",
       "      <th>0</th>\n",
       "      <td>60612</td>\n",
       "      <td>52</td>\n",
       "      <td>6287.0</td>\n",
       "      <td>18323.6</td>\n",
       "      <td>83</td>\n",
       "      <td>241.9</td>\n",
       "      <td>34311</td>\n",
       "    </tr>\n",
       "    <tr>\n",
       "      <th>1</th>\n",
       "      <td>60612</td>\n",
       "      <td>1</td>\n",
       "      <td>6890.0</td>\n",
       "      <td>20081.0</td>\n",
       "      <td>89</td>\n",
       "      <td>259.4</td>\n",
       "      <td>34311</td>\n",
       "    </tr>\n",
       "    <tr>\n",
       "      <th>2</th>\n",
       "      <td>60612</td>\n",
       "      <td>14</td>\n",
       "      <td>7670.0</td>\n",
       "      <td>22354.3</td>\n",
       "      <td>101</td>\n",
       "      <td>294.4</td>\n",
       "      <td>34311</td>\n",
       "    </tr>\n",
       "    <tr>\n",
       "      <th>3</th>\n",
       "      <td>60612</td>\n",
       "      <td>17</td>\n",
       "      <td>7852.0</td>\n",
       "      <td>22884.8</td>\n",
       "      <td>101</td>\n",
       "      <td>294.4</td>\n",
       "      <td>34311</td>\n",
       "    </tr>\n",
       "    <tr>\n",
       "      <th>4</th>\n",
       "      <td>60612</td>\n",
       "      <td>18</td>\n",
       "      <td>7938.0</td>\n",
       "      <td>23135.4</td>\n",
       "      <td>101</td>\n",
       "      <td>294.4</td>\n",
       "      <td>34311</td>\n",
       "    </tr>\n",
       "    <tr>\n",
       "      <th>...</th>\n",
       "      <td>...</td>\n",
       "      <td>...</td>\n",
       "      <td>...</td>\n",
       "      <td>...</td>\n",
       "      <td>...</td>\n",
       "      <td>...</td>\n",
       "      <td>...</td>\n",
       "    </tr>\n",
       "    <tr>\n",
       "      <th>1995</th>\n",
       "      <td>60634</td>\n",
       "      <td>38</td>\n",
       "      <td>25974.0</td>\n",
       "      <td>34178.6</td>\n",
       "      <td>257</td>\n",
       "      <td>338.2</td>\n",
       "      <td>75995</td>\n",
       "    </tr>\n",
       "    <tr>\n",
       "      <th>1996</th>\n",
       "      <td>60634</td>\n",
       "      <td>39</td>\n",
       "      <td>26003.0</td>\n",
       "      <td>34216.7</td>\n",
       "      <td>257</td>\n",
       "      <td>338.2</td>\n",
       "      <td>75995</td>\n",
       "    </tr>\n",
       "    <tr>\n",
       "      <th>1997</th>\n",
       "      <td>60634</td>\n",
       "      <td>40</td>\n",
       "      <td>26033.0</td>\n",
       "      <td>34256.2</td>\n",
       "      <td>257</td>\n",
       "      <td>338.2</td>\n",
       "      <td>75995</td>\n",
       "    </tr>\n",
       "    <tr>\n",
       "      <th>1998</th>\n",
       "      <td>60634</td>\n",
       "      <td>41</td>\n",
       "      <td>26070.0</td>\n",
       "      <td>34304.9</td>\n",
       "      <td>257</td>\n",
       "      <td>338.2</td>\n",
       "      <td>75995</td>\n",
       "    </tr>\n",
       "    <tr>\n",
       "      <th>1999</th>\n",
       "      <td>60629</td>\n",
       "      <td>23</td>\n",
       "      <td>35002.0</td>\n",
       "      <td>31293.7</td>\n",
       "      <td>358</td>\n",
       "      <td>320.1</td>\n",
       "      <td>111850</td>\n",
       "    </tr>\n",
       "  </tbody>\n",
       "</table>\n",
       "<p>2000 rows × 7 columns</p>\n",
       "</div>"
      ],
      "text/plain": [
       "     zip_code  week_number  cases_cumulative  case_rate_cumulative  \\\n",
       "0       60612           52            6287.0               18323.6   \n",
       "1       60612            1            6890.0               20081.0   \n",
       "2       60612           14            7670.0               22354.3   \n",
       "3       60612           17            7852.0               22884.8   \n",
       "4       60612           18            7938.0               23135.4   \n",
       "...       ...          ...               ...                   ...   \n",
       "1995    60634           38           25974.0               34178.6   \n",
       "1996    60634           39           26003.0               34216.7   \n",
       "1997    60634           40           26033.0               34256.2   \n",
       "1998    60634           41           26070.0               34304.9   \n",
       "1999    60629           23           35002.0               31293.7   \n",
       "\n",
       "      deaths_cumulative  death_rate_cumulative  population  \n",
       "0                    83                  241.9       34311  \n",
       "1                    89                  259.4       34311  \n",
       "2                   101                  294.4       34311  \n",
       "3                   101                  294.4       34311  \n",
       "4                   101                  294.4       34311  \n",
       "...                 ...                    ...         ...  \n",
       "1995                257                  338.2       75995  \n",
       "1996                257                  338.2       75995  \n",
       "1997                257                  338.2       75995  \n",
       "1998                257                  338.2       75995  \n",
       "1999                358                  320.1      111850  \n",
       "\n",
       "[2000 rows x 7 columns]"
      ]
     },
     "execution_count": 9,
     "metadata": {},
     "output_type": "execute_result"
    }
   ],
   "source": [
    "df_covid = pd.read_csv('Chicago_covid_data_clean.csv')\n",
    "\n",
    "df_covid"
   ]
  },
  {
   "cell_type": "code",
   "execution_count": 19,
   "id": "dd3e09ef-d707-49e1-8eb0-2e3d673545b7",
   "metadata": {},
   "outputs": [
    {
     "data": {
      "text/html": [
       "<div>\n",
       "<style scoped>\n",
       "    .dataframe tbody tr th:only-of-type {\n",
       "        vertical-align: middle;\n",
       "    }\n",
       "\n",
       "    .dataframe tbody tr th {\n",
       "        vertical-align: top;\n",
       "    }\n",
       "\n",
       "    .dataframe thead th {\n",
       "        text-align: right;\n",
       "    }\n",
       "</style>\n",
       "<table border=\"1\" class=\"dataframe\">\n",
       "  <thead>\n",
       "    <tr style=\"text-align: right;\">\n",
       "      <th></th>\n",
       "      <th>zip_code</th>\n",
       "      <th>cases_cumulative</th>\n",
       "      <th>deaths_cumulative</th>\n",
       "    </tr>\n",
       "  </thead>\n",
       "  <tbody>\n",
       "    <tr>\n",
       "      <th>0</th>\n",
       "      <td>60601</td>\n",
       "      <td>46834.0</td>\n",
       "      <td>128</td>\n",
       "    </tr>\n",
       "    <tr>\n",
       "      <th>1</th>\n",
       "      <td>60602</td>\n",
       "      <td>32148.0</td>\n",
       "      <td>273</td>\n",
       "    </tr>\n",
       "    <tr>\n",
       "      <th>2</th>\n",
       "      <td>60603</td>\n",
       "      <td>2286.0</td>\n",
       "      <td>0</td>\n",
       "    </tr>\n",
       "    <tr>\n",
       "      <th>3</th>\n",
       "      <td>60604</td>\n",
       "      <td>2520.0</td>\n",
       "      <td>0</td>\n",
       "    </tr>\n",
       "    <tr>\n",
       "      <th>4</th>\n",
       "      <td>60605</td>\n",
       "      <td>40188.0</td>\n",
       "      <td>80</td>\n",
       "    </tr>\n",
       "    <tr>\n",
       "      <th>5</th>\n",
       "      <td>60606</td>\n",
       "      <td>6553.0</td>\n",
       "      <td>55</td>\n",
       "    </tr>\n",
       "    <tr>\n",
       "      <th>6</th>\n",
       "      <td>60607</td>\n",
       "      <td>48420.0</td>\n",
       "      <td>100</td>\n",
       "    </tr>\n",
       "    <tr>\n",
       "      <th>7</th>\n",
       "      <td>60608</td>\n",
       "      <td>108947.0</td>\n",
       "      <td>1030</td>\n",
       "    </tr>\n",
       "    <tr>\n",
       "      <th>8</th>\n",
       "      <td>60609</td>\n",
       "      <td>125573.0</td>\n",
       "      <td>1631</td>\n",
       "    </tr>\n",
       "    <tr>\n",
       "      <th>9</th>\n",
       "      <td>60610</td>\n",
       "      <td>150895.0</td>\n",
       "      <td>794</td>\n",
       "    </tr>\n",
       "    <tr>\n",
       "      <th>10</th>\n",
       "      <td>60611</td>\n",
       "      <td>49654.0</td>\n",
       "      <td>155</td>\n",
       "    </tr>\n",
       "    <tr>\n",
       "      <th>11</th>\n",
       "      <td>60612</td>\n",
       "      <td>527105.0</td>\n",
       "      <td>5624</td>\n",
       "    </tr>\n",
       "    <tr>\n",
       "      <th>12</th>\n",
       "      <td>60613</td>\n",
       "      <td>542650.0</td>\n",
       "      <td>2955</td>\n",
       "    </tr>\n",
       "    <tr>\n",
       "      <th>13</th>\n",
       "      <td>60614</td>\n",
       "      <td>598292.0</td>\n",
       "      <td>4983</td>\n",
       "    </tr>\n",
       "    <tr>\n",
       "      <th>14</th>\n",
       "      <td>60615</td>\n",
       "      <td>454344.0</td>\n",
       "      <td>4177</td>\n",
       "    </tr>\n",
       "    <tr>\n",
       "      <th>15</th>\n",
       "      <td>60616</td>\n",
       "      <td>128229.0</td>\n",
       "      <td>1456</td>\n",
       "    </tr>\n",
       "    <tr>\n",
       "      <th>16</th>\n",
       "      <td>60617</td>\n",
       "      <td>150400.0</td>\n",
       "      <td>1839</td>\n",
       "    </tr>\n",
       "    <tr>\n",
       "      <th>17</th>\n",
       "      <td>60618</td>\n",
       "      <td>1458008.0</td>\n",
       "      <td>11987</td>\n",
       "    </tr>\n",
       "    <tr>\n",
       "      <th>18</th>\n",
       "      <td>60619</td>\n",
       "      <td>143731.0</td>\n",
       "      <td>2194</td>\n",
       "    </tr>\n",
       "    <tr>\n",
       "      <th>19</th>\n",
       "      <td>60620</td>\n",
       "      <td>420618.0</td>\n",
       "      <td>8223</td>\n",
       "    </tr>\n",
       "    <tr>\n",
       "      <th>20</th>\n",
       "      <td>60621</td>\n",
       "      <td>146902.0</td>\n",
       "      <td>2944</td>\n",
       "    </tr>\n",
       "    <tr>\n",
       "      <th>21</th>\n",
       "      <td>60622</td>\n",
       "      <td>917286.0</td>\n",
       "      <td>9203</td>\n",
       "    </tr>\n",
       "    <tr>\n",
       "      <th>22</th>\n",
       "      <td>60623</td>\n",
       "      <td>339805.0</td>\n",
       "      <td>4424</td>\n",
       "    </tr>\n",
       "    <tr>\n",
       "      <th>23</th>\n",
       "      <td>60624</td>\n",
       "      <td>881304.0</td>\n",
       "      <td>13823</td>\n",
       "    </tr>\n",
       "    <tr>\n",
       "      <th>24</th>\n",
       "      <td>60625</td>\n",
       "      <td>1644530.0</td>\n",
       "      <td>24034</td>\n",
       "    </tr>\n",
       "    <tr>\n",
       "      <th>25</th>\n",
       "      <td>60626</td>\n",
       "      <td>73524.0</td>\n",
       "      <td>1090</td>\n",
       "    </tr>\n",
       "    <tr>\n",
       "      <th>26</th>\n",
       "      <td>60628</td>\n",
       "      <td>656427.0</td>\n",
       "      <td>12682</td>\n",
       "    </tr>\n",
       "    <tr>\n",
       "      <th>27</th>\n",
       "      <td>60629</td>\n",
       "      <td>669253.0</td>\n",
       "      <td>6835</td>\n",
       "    </tr>\n",
       "    <tr>\n",
       "      <th>28</th>\n",
       "      <td>60630</td>\n",
       "      <td>89545.0</td>\n",
       "      <td>1035</td>\n",
       "    </tr>\n",
       "    <tr>\n",
       "      <th>29</th>\n",
       "      <td>60631</td>\n",
       "      <td>63773.0</td>\n",
       "      <td>882</td>\n",
       "    </tr>\n",
       "    <tr>\n",
       "      <th>30</th>\n",
       "      <td>60632</td>\n",
       "      <td>1462055.0</td>\n",
       "      <td>15661</td>\n",
       "    </tr>\n",
       "    <tr>\n",
       "      <th>31</th>\n",
       "      <td>60633</td>\n",
       "      <td>274972.0</td>\n",
       "      <td>2594</td>\n",
       "    </tr>\n",
       "    <tr>\n",
       "      <th>32</th>\n",
       "      <td>60634</td>\n",
       "      <td>654425.0</td>\n",
       "      <td>6475</td>\n",
       "    </tr>\n",
       "    <tr>\n",
       "      <th>33</th>\n",
       "      <td>60636</td>\n",
       "      <td>48032.0</td>\n",
       "      <td>840</td>\n",
       "    </tr>\n",
       "    <tr>\n",
       "      <th>34</th>\n",
       "      <td>60637</td>\n",
       "      <td>55166.0</td>\n",
       "      <td>436</td>\n",
       "    </tr>\n",
       "    <tr>\n",
       "      <th>35</th>\n",
       "      <td>60638</td>\n",
       "      <td>176680.0</td>\n",
       "      <td>1872</td>\n",
       "    </tr>\n",
       "    <tr>\n",
       "      <th>36</th>\n",
       "      <td>60639</td>\n",
       "      <td>155741.0</td>\n",
       "      <td>1600</td>\n",
       "    </tr>\n",
       "    <tr>\n",
       "      <th>37</th>\n",
       "      <td>60640</td>\n",
       "      <td>56992.0</td>\n",
       "      <td>627</td>\n",
       "    </tr>\n",
       "    <tr>\n",
       "      <th>38</th>\n",
       "      <td>60641</td>\n",
       "      <td>1816578.0</td>\n",
       "      <td>17118</td>\n",
       "    </tr>\n",
       "    <tr>\n",
       "      <th>39</th>\n",
       "      <td>60642</td>\n",
       "      <td>512338.0</td>\n",
       "      <td>3737</td>\n",
       "    </tr>\n",
       "    <tr>\n",
       "      <th>40</th>\n",
       "      <td>60643</td>\n",
       "      <td>116582.0</td>\n",
       "      <td>1760</td>\n",
       "    </tr>\n",
       "    <tr>\n",
       "      <th>41</th>\n",
       "      <td>60644</td>\n",
       "      <td>41115.0</td>\n",
       "      <td>666</td>\n",
       "    </tr>\n",
       "    <tr>\n",
       "      <th>42</th>\n",
       "      <td>60645</td>\n",
       "      <td>77051.0</td>\n",
       "      <td>805</td>\n",
       "    </tr>\n",
       "    <tr>\n",
       "      <th>43</th>\n",
       "      <td>60646</td>\n",
       "      <td>941614.0</td>\n",
       "      <td>13657</td>\n",
       "    </tr>\n",
       "    <tr>\n",
       "      <th>44</th>\n",
       "      <td>60647</td>\n",
       "      <td>125891.0</td>\n",
       "      <td>1001</td>\n",
       "    </tr>\n",
       "    <tr>\n",
       "      <th>45</th>\n",
       "      <td>60649</td>\n",
       "      <td>434149.0</td>\n",
       "      <td>13141</td>\n",
       "    </tr>\n",
       "    <tr>\n",
       "      <th>46</th>\n",
       "      <td>60651</td>\n",
       "      <td>96126.0</td>\n",
       "      <td>955</td>\n",
       "    </tr>\n",
       "    <tr>\n",
       "      <th>47</th>\n",
       "      <td>60652</td>\n",
       "      <td>55839.0</td>\n",
       "      <td>588</td>\n",
       "    </tr>\n",
       "    <tr>\n",
       "      <th>48</th>\n",
       "      <td>60653</td>\n",
       "      <td>580479.0</td>\n",
       "      <td>8220</td>\n",
       "    </tr>\n",
       "    <tr>\n",
       "      <th>49</th>\n",
       "      <td>60654</td>\n",
       "      <td>31357.0</td>\n",
       "      <td>45</td>\n",
       "    </tr>\n",
       "    <tr>\n",
       "      <th>50</th>\n",
       "      <td>60655</td>\n",
       "      <td>54184.0</td>\n",
       "      <td>330</td>\n",
       "    </tr>\n",
       "    <tr>\n",
       "      <th>51</th>\n",
       "      <td>60656</td>\n",
       "      <td>45842.0</td>\n",
       "      <td>430</td>\n",
       "    </tr>\n",
       "    <tr>\n",
       "      <th>52</th>\n",
       "      <td>60657</td>\n",
       "      <td>101116.0</td>\n",
       "      <td>340</td>\n",
       "    </tr>\n",
       "    <tr>\n",
       "      <th>53</th>\n",
       "      <td>60659</td>\n",
       "      <td>525758.0</td>\n",
       "      <td>5722</td>\n",
       "    </tr>\n",
       "    <tr>\n",
       "      <th>54</th>\n",
       "      <td>60660</td>\n",
       "      <td>95061.0</td>\n",
       "      <td>884</td>\n",
       "    </tr>\n",
       "    <tr>\n",
       "      <th>55</th>\n",
       "      <td>60661</td>\n",
       "      <td>15989.0</td>\n",
       "      <td>10</td>\n",
       "    </tr>\n",
       "    <tr>\n",
       "      <th>56</th>\n",
       "      <td>60666</td>\n",
       "      <td>1115.0</td>\n",
       "      <td>0</td>\n",
       "    </tr>\n",
       "    <tr>\n",
       "      <th>57</th>\n",
       "      <td>60707</td>\n",
       "      <td>43712.0</td>\n",
       "      <td>476</td>\n",
       "    </tr>\n",
       "    <tr>\n",
       "      <th>58</th>\n",
       "      <td>60827</td>\n",
       "      <td>6606.0</td>\n",
       "      <td>95</td>\n",
       "    </tr>\n",
       "    <tr>\n",
       "      <th>59</th>\n",
       "      <td>Unknown</td>\n",
       "      <td>86170.0</td>\n",
       "      <td>318</td>\n",
       "    </tr>\n",
       "  </tbody>\n",
       "</table>\n",
       "</div>"
      ],
      "text/plain": [
       "   zip_code  cases_cumulative  deaths_cumulative\n",
       "0     60601           46834.0                128\n",
       "1     60602           32148.0                273\n",
       "2     60603            2286.0                  0\n",
       "3     60604            2520.0                  0\n",
       "4     60605           40188.0                 80\n",
       "5     60606            6553.0                 55\n",
       "6     60607           48420.0                100\n",
       "7     60608          108947.0               1030\n",
       "8     60609          125573.0               1631\n",
       "9     60610          150895.0                794\n",
       "10    60611           49654.0                155\n",
       "11    60612          527105.0               5624\n",
       "12    60613          542650.0               2955\n",
       "13    60614          598292.0               4983\n",
       "14    60615          454344.0               4177\n",
       "15    60616          128229.0               1456\n",
       "16    60617          150400.0               1839\n",
       "17    60618         1458008.0              11987\n",
       "18    60619          143731.0               2194\n",
       "19    60620          420618.0               8223\n",
       "20    60621          146902.0               2944\n",
       "21    60622          917286.0               9203\n",
       "22    60623          339805.0               4424\n",
       "23    60624          881304.0              13823\n",
       "24    60625         1644530.0              24034\n",
       "25    60626           73524.0               1090\n",
       "26    60628          656427.0              12682\n",
       "27    60629          669253.0               6835\n",
       "28    60630           89545.0               1035\n",
       "29    60631           63773.0                882\n",
       "30    60632         1462055.0              15661\n",
       "31    60633          274972.0               2594\n",
       "32    60634          654425.0               6475\n",
       "33    60636           48032.0                840\n",
       "34    60637           55166.0                436\n",
       "35    60638          176680.0               1872\n",
       "36    60639          155741.0               1600\n",
       "37    60640           56992.0                627\n",
       "38    60641         1816578.0              17118\n",
       "39    60642          512338.0               3737\n",
       "40    60643          116582.0               1760\n",
       "41    60644           41115.0                666\n",
       "42    60645           77051.0                805\n",
       "43    60646          941614.0              13657\n",
       "44    60647          125891.0               1001\n",
       "45    60649          434149.0              13141\n",
       "46    60651           96126.0                955\n",
       "47    60652           55839.0                588\n",
       "48    60653          580479.0               8220\n",
       "49    60654           31357.0                 45\n",
       "50    60655           54184.0                330\n",
       "51    60656           45842.0                430\n",
       "52    60657          101116.0                340\n",
       "53    60659          525758.0               5722\n",
       "54    60660           95061.0                884\n",
       "55    60661           15989.0                 10\n",
       "56    60666            1115.0                  0\n",
       "57    60707           43712.0                476\n",
       "58    60827            6606.0                 95\n",
       "59  Unknown           86170.0                318"
      ]
     },
     "execution_count": 19,
     "metadata": {},
     "output_type": "execute_result"
    }
   ],
   "source": [
    "#getting total sums for each zip code to make graphing + analysis more digestible\n",
    "\n",
    "summed_totals_by_zip = df_covid.groupby('zip_code')[['cases_cumulative', 'deaths_cumulative']].sum().reset_index()\n",
    "\n",
    "summed_totals_by_zip"
   ]
  },
  {
   "cell_type": "code",
   "execution_count": 21,
   "id": "398037f1-fd9a-4be8-9f37-1ab08bcf172d",
   "metadata": {},
   "outputs": [],
   "source": [
    "summed_totals_by_zip.to_csv('Chicago_covid_data_sums.csv')"
   ]
  },
  {
   "cell_type": "code",
   "execution_count": null,
   "id": "9cff53b5-2b73-4d6c-bb1d-081a6c7f4ac7",
   "metadata": {},
   "outputs": [],
   "source": [
    "#Data Cleanup OpenRefine:\n",
    "#transformed 'cases_cumlative' column to remove ending decimal zeros to get accurate graph"
   ]
  },
  {
   "cell_type": "code",
   "execution_count": 27,
   "id": "3d27de94-575e-491d-928c-6f70c563781a",
   "metadata": {},
   "outputs": [],
   "source": [
    "df_covid_totals = pd.read_csv('Chicago_covid_data_sums_clean.csv')"
   ]
  },
  {
   "cell_type": "code",
   "execution_count": 33,
   "id": "bff6ff7b-ecc4-4548-850f-94583b1f164f",
   "metadata": {},
   "outputs": [
    {
     "data": {
      "application/vnd.plotly.v1+json": {
       "config": {
        "plotlyServerURL": "https://plot.ly"
       },
       "data": [
        {
         "alignmentgroup": "True",
         "hovertemplate": "Metric=cases_cumulative<br>ZIP Code=%{x}<br>Total Count=%{y}<extra></extra>",
         "legendgroup": "cases_cumulative",
         "marker": {
          "color": "#636efa",
          "pattern": {
           "shape": ""
          }
         },
         "name": "cases_cumulative",
         "offsetgroup": "cases_cumulative",
         "orientation": "v",
         "showlegend": true,
         "textposition": "auto",
         "type": "bar",
         "x": [
          "60601",
          "60602",
          "60603",
          "60604",
          "60605",
          "60606",
          "60607",
          "60608",
          "60609",
          "60610",
          "60611",
          "60612",
          "60613",
          "60614",
          "60615",
          "60616",
          "60617",
          "60618",
          "60619",
          "60620",
          "60621",
          "60622",
          "60623",
          "60624",
          "60625",
          "60626",
          "60628",
          "60629",
          "60630",
          "60631",
          "60632",
          "60633",
          "60634",
          "60636",
          "60637",
          "60638",
          "60639",
          "60640",
          "60641",
          "60642",
          "60643",
          "60644",
          "60645",
          "60646",
          "60647",
          "60649",
          "60651",
          "60652",
          "60653",
          "60654",
          "60655",
          "60656",
          "60657",
          "60659",
          "60660",
          "60661",
          "60666",
          "60707",
          "60827",
          "Unknown"
         ],
         "xaxis": "x",
         "y": [
          46834,
          32148,
          2286,
          2520,
          40188,
          6553,
          48420,
          108947,
          125573,
          150895,
          49654,
          527105,
          542650,
          598292,
          454344,
          128229,
          150400,
          1458008,
          143731,
          420618,
          146902,
          917286,
          339805,
          881304,
          1644530,
          73524,
          656427,
          669253,
          89545,
          63773,
          1462055,
          274972,
          654425,
          48032,
          55166,
          176680,
          155741,
          56992,
          1816578,
          512338,
          116582,
          41115,
          77051,
          941614,
          125891,
          434149,
          96126,
          55839,
          580479,
          31357,
          54184,
          45842,
          101116,
          525758,
          95061,
          15989,
          1115,
          43712,
          6606,
          86170
         ],
         "yaxis": "y"
        },
        {
         "alignmentgroup": "True",
         "hovertemplate": "Metric=deaths_cumulative<br>ZIP Code=%{x}<br>Total Count=%{y}<extra></extra>",
         "legendgroup": "deaths_cumulative",
         "marker": {
          "color": "#EF553B",
          "pattern": {
           "shape": ""
          }
         },
         "name": "deaths_cumulative",
         "offsetgroup": "deaths_cumulative",
         "orientation": "v",
         "showlegend": true,
         "textposition": "auto",
         "type": "bar",
         "x": [
          "60601",
          "60602",
          "60603",
          "60604",
          "60605",
          "60606",
          "60607",
          "60608",
          "60609",
          "60610",
          "60611",
          "60612",
          "60613",
          "60614",
          "60615",
          "60616",
          "60617",
          "60618",
          "60619",
          "60620",
          "60621",
          "60622",
          "60623",
          "60624",
          "60625",
          "60626",
          "60628",
          "60629",
          "60630",
          "60631",
          "60632",
          "60633",
          "60634",
          "60636",
          "60637",
          "60638",
          "60639",
          "60640",
          "60641",
          "60642",
          "60643",
          "60644",
          "60645",
          "60646",
          "60647",
          "60649",
          "60651",
          "60652",
          "60653",
          "60654",
          "60655",
          "60656",
          "60657",
          "60659",
          "60660",
          "60661",
          "60666",
          "60707",
          "60827",
          "Unknown"
         ],
         "xaxis": "x",
         "y": [
          128,
          273,
          0,
          0,
          80,
          55,
          100,
          1030,
          1631,
          794,
          155,
          5624,
          2955,
          4983,
          4177,
          1456,
          1839,
          11987,
          2194,
          8223,
          2944,
          9203,
          4424,
          13823,
          24034,
          1090,
          12682,
          6835,
          1035,
          882,
          15661,
          2594,
          6475,
          840,
          436,
          1872,
          1600,
          627,
          17118,
          3737,
          1760,
          666,
          805,
          13657,
          1001,
          13141,
          955,
          588,
          8220,
          45,
          330,
          430,
          340,
          5722,
          884,
          10,
          0,
          476,
          95,
          318
         ],
         "yaxis": "y"
        }
       ],
       "layout": {
        "autosize": true,
        "barmode": "group",
        "legend": {
         "title": {
          "text": "Metric"
         },
         "tracegroupgap": 0
        },
        "template": {
         "data": {
          "bar": [
           {
            "error_x": {
             "color": "#2a3f5f"
            },
            "error_y": {
             "color": "#2a3f5f"
            },
            "marker": {
             "line": {
              "color": "#E5ECF6",
              "width": 0.5
             },
             "pattern": {
              "fillmode": "overlay",
              "size": 10,
              "solidity": 0.2
             }
            },
            "type": "bar"
           }
          ],
          "barpolar": [
           {
            "marker": {
             "line": {
              "color": "#E5ECF6",
              "width": 0.5
             },
             "pattern": {
              "fillmode": "overlay",
              "size": 10,
              "solidity": 0.2
             }
            },
            "type": "barpolar"
           }
          ],
          "carpet": [
           {
            "aaxis": {
             "endlinecolor": "#2a3f5f",
             "gridcolor": "white",
             "linecolor": "white",
             "minorgridcolor": "white",
             "startlinecolor": "#2a3f5f"
            },
            "baxis": {
             "endlinecolor": "#2a3f5f",
             "gridcolor": "white",
             "linecolor": "white",
             "minorgridcolor": "white",
             "startlinecolor": "#2a3f5f"
            },
            "type": "carpet"
           }
          ],
          "choropleth": [
           {
            "colorbar": {
             "outlinewidth": 0,
             "ticks": ""
            },
            "type": "choropleth"
           }
          ],
          "contour": [
           {
            "colorbar": {
             "outlinewidth": 0,
             "ticks": ""
            },
            "colorscale": [
             [
              0,
              "#0d0887"
             ],
             [
              0.1111111111111111,
              "#46039f"
             ],
             [
              0.2222222222222222,
              "#7201a8"
             ],
             [
              0.3333333333333333,
              "#9c179e"
             ],
             [
              0.4444444444444444,
              "#bd3786"
             ],
             [
              0.5555555555555556,
              "#d8576b"
             ],
             [
              0.6666666666666666,
              "#ed7953"
             ],
             [
              0.7777777777777778,
              "#fb9f3a"
             ],
             [
              0.8888888888888888,
              "#fdca26"
             ],
             [
              1,
              "#f0f921"
             ]
            ],
            "type": "contour"
           }
          ],
          "contourcarpet": [
           {
            "colorbar": {
             "outlinewidth": 0,
             "ticks": ""
            },
            "type": "contourcarpet"
           }
          ],
          "heatmap": [
           {
            "colorbar": {
             "outlinewidth": 0,
             "ticks": ""
            },
            "colorscale": [
             [
              0,
              "#0d0887"
             ],
             [
              0.1111111111111111,
              "#46039f"
             ],
             [
              0.2222222222222222,
              "#7201a8"
             ],
             [
              0.3333333333333333,
              "#9c179e"
             ],
             [
              0.4444444444444444,
              "#bd3786"
             ],
             [
              0.5555555555555556,
              "#d8576b"
             ],
             [
              0.6666666666666666,
              "#ed7953"
             ],
             [
              0.7777777777777778,
              "#fb9f3a"
             ],
             [
              0.8888888888888888,
              "#fdca26"
             ],
             [
              1,
              "#f0f921"
             ]
            ],
            "type": "heatmap"
           }
          ],
          "heatmapgl": [
           {
            "colorbar": {
             "outlinewidth": 0,
             "ticks": ""
            },
            "colorscale": [
             [
              0,
              "#0d0887"
             ],
             [
              0.1111111111111111,
              "#46039f"
             ],
             [
              0.2222222222222222,
              "#7201a8"
             ],
             [
              0.3333333333333333,
              "#9c179e"
             ],
             [
              0.4444444444444444,
              "#bd3786"
             ],
             [
              0.5555555555555556,
              "#d8576b"
             ],
             [
              0.6666666666666666,
              "#ed7953"
             ],
             [
              0.7777777777777778,
              "#fb9f3a"
             ],
             [
              0.8888888888888888,
              "#fdca26"
             ],
             [
              1,
              "#f0f921"
             ]
            ],
            "type": "heatmapgl"
           }
          ],
          "histogram": [
           {
            "marker": {
             "pattern": {
              "fillmode": "overlay",
              "size": 10,
              "solidity": 0.2
             }
            },
            "type": "histogram"
           }
          ],
          "histogram2d": [
           {
            "colorbar": {
             "outlinewidth": 0,
             "ticks": ""
            },
            "colorscale": [
             [
              0,
              "#0d0887"
             ],
             [
              0.1111111111111111,
              "#46039f"
             ],
             [
              0.2222222222222222,
              "#7201a8"
             ],
             [
              0.3333333333333333,
              "#9c179e"
             ],
             [
              0.4444444444444444,
              "#bd3786"
             ],
             [
              0.5555555555555556,
              "#d8576b"
             ],
             [
              0.6666666666666666,
              "#ed7953"
             ],
             [
              0.7777777777777778,
              "#fb9f3a"
             ],
             [
              0.8888888888888888,
              "#fdca26"
             ],
             [
              1,
              "#f0f921"
             ]
            ],
            "type": "histogram2d"
           }
          ],
          "histogram2dcontour": [
           {
            "colorbar": {
             "outlinewidth": 0,
             "ticks": ""
            },
            "colorscale": [
             [
              0,
              "#0d0887"
             ],
             [
              0.1111111111111111,
              "#46039f"
             ],
             [
              0.2222222222222222,
              "#7201a8"
             ],
             [
              0.3333333333333333,
              "#9c179e"
             ],
             [
              0.4444444444444444,
              "#bd3786"
             ],
             [
              0.5555555555555556,
              "#d8576b"
             ],
             [
              0.6666666666666666,
              "#ed7953"
             ],
             [
              0.7777777777777778,
              "#fb9f3a"
             ],
             [
              0.8888888888888888,
              "#fdca26"
             ],
             [
              1,
              "#f0f921"
             ]
            ],
            "type": "histogram2dcontour"
           }
          ],
          "mesh3d": [
           {
            "colorbar": {
             "outlinewidth": 0,
             "ticks": ""
            },
            "type": "mesh3d"
           }
          ],
          "parcoords": [
           {
            "line": {
             "colorbar": {
              "outlinewidth": 0,
              "ticks": ""
             }
            },
            "type": "parcoords"
           }
          ],
          "pie": [
           {
            "automargin": true,
            "type": "pie"
           }
          ],
          "scatter": [
           {
            "fillpattern": {
             "fillmode": "overlay",
             "size": 10,
             "solidity": 0.2
            },
            "type": "scatter"
           }
          ],
          "scatter3d": [
           {
            "line": {
             "colorbar": {
              "outlinewidth": 0,
              "ticks": ""
             }
            },
            "marker": {
             "colorbar": {
              "outlinewidth": 0,
              "ticks": ""
             }
            },
            "type": "scatter3d"
           }
          ],
          "scattercarpet": [
           {
            "marker": {
             "colorbar": {
              "outlinewidth": 0,
              "ticks": ""
             }
            },
            "type": "scattercarpet"
           }
          ],
          "scattergeo": [
           {
            "marker": {
             "colorbar": {
              "outlinewidth": 0,
              "ticks": ""
             }
            },
            "type": "scattergeo"
           }
          ],
          "scattergl": [
           {
            "marker": {
             "colorbar": {
              "outlinewidth": 0,
              "ticks": ""
             }
            },
            "type": "scattergl"
           }
          ],
          "scattermapbox": [
           {
            "marker": {
             "colorbar": {
              "outlinewidth": 0,
              "ticks": ""
             }
            },
            "type": "scattermapbox"
           }
          ],
          "scatterpolar": [
           {
            "marker": {
             "colorbar": {
              "outlinewidth": 0,
              "ticks": ""
             }
            },
            "type": "scatterpolar"
           }
          ],
          "scatterpolargl": [
           {
            "marker": {
             "colorbar": {
              "outlinewidth": 0,
              "ticks": ""
             }
            },
            "type": "scatterpolargl"
           }
          ],
          "scatterternary": [
           {
            "marker": {
             "colorbar": {
              "outlinewidth": 0,
              "ticks": ""
             }
            },
            "type": "scatterternary"
           }
          ],
          "surface": [
           {
            "colorbar": {
             "outlinewidth": 0,
             "ticks": ""
            },
            "colorscale": [
             [
              0,
              "#0d0887"
             ],
             [
              0.1111111111111111,
              "#46039f"
             ],
             [
              0.2222222222222222,
              "#7201a8"
             ],
             [
              0.3333333333333333,
              "#9c179e"
             ],
             [
              0.4444444444444444,
              "#bd3786"
             ],
             [
              0.5555555555555556,
              "#d8576b"
             ],
             [
              0.6666666666666666,
              "#ed7953"
             ],
             [
              0.7777777777777778,
              "#fb9f3a"
             ],
             [
              0.8888888888888888,
              "#fdca26"
             ],
             [
              1,
              "#f0f921"
             ]
            ],
            "type": "surface"
           }
          ],
          "table": [
           {
            "cells": {
             "fill": {
              "color": "#EBF0F8"
             },
             "line": {
              "color": "white"
             }
            },
            "header": {
             "fill": {
              "color": "#C8D4E3"
             },
             "line": {
              "color": "white"
             }
            },
            "type": "table"
           }
          ]
         },
         "layout": {
          "annotationdefaults": {
           "arrowcolor": "#2a3f5f",
           "arrowhead": 0,
           "arrowwidth": 1
          },
          "autotypenumbers": "strict",
          "coloraxis": {
           "colorbar": {
            "outlinewidth": 0,
            "ticks": ""
           }
          },
          "colorscale": {
           "diverging": [
            [
             0,
             "#8e0152"
            ],
            [
             0.1,
             "#c51b7d"
            ],
            [
             0.2,
             "#de77ae"
            ],
            [
             0.3,
             "#f1b6da"
            ],
            [
             0.4,
             "#fde0ef"
            ],
            [
             0.5,
             "#f7f7f7"
            ],
            [
             0.6,
             "#e6f5d0"
            ],
            [
             0.7,
             "#b8e186"
            ],
            [
             0.8,
             "#7fbc41"
            ],
            [
             0.9,
             "#4d9221"
            ],
            [
             1,
             "#276419"
            ]
           ],
           "sequential": [
            [
             0,
             "#0d0887"
            ],
            [
             0.1111111111111111,
             "#46039f"
            ],
            [
             0.2222222222222222,
             "#7201a8"
            ],
            [
             0.3333333333333333,
             "#9c179e"
            ],
            [
             0.4444444444444444,
             "#bd3786"
            ],
            [
             0.5555555555555556,
             "#d8576b"
            ],
            [
             0.6666666666666666,
             "#ed7953"
            ],
            [
             0.7777777777777778,
             "#fb9f3a"
            ],
            [
             0.8888888888888888,
             "#fdca26"
            ],
            [
             1,
             "#f0f921"
            ]
           ],
           "sequentialminus": [
            [
             0,
             "#0d0887"
            ],
            [
             0.1111111111111111,
             "#46039f"
            ],
            [
             0.2222222222222222,
             "#7201a8"
            ],
            [
             0.3333333333333333,
             "#9c179e"
            ],
            [
             0.4444444444444444,
             "#bd3786"
            ],
            [
             0.5555555555555556,
             "#d8576b"
            ],
            [
             0.6666666666666666,
             "#ed7953"
            ],
            [
             0.7777777777777778,
             "#fb9f3a"
            ],
            [
             0.8888888888888888,
             "#fdca26"
            ],
            [
             1,
             "#f0f921"
            ]
           ]
          },
          "colorway": [
           "#636efa",
           "#EF553B",
           "#00cc96",
           "#ab63fa",
           "#FFA15A",
           "#19d3f3",
           "#FF6692",
           "#B6E880",
           "#FF97FF",
           "#FECB52"
          ],
          "font": {
           "color": "#2a3f5f"
          },
          "geo": {
           "bgcolor": "white",
           "lakecolor": "white",
           "landcolor": "#E5ECF6",
           "showlakes": true,
           "showland": true,
           "subunitcolor": "white"
          },
          "hoverlabel": {
           "align": "left"
          },
          "hovermode": "closest",
          "mapbox": {
           "style": "light"
          },
          "paper_bgcolor": "white",
          "plot_bgcolor": "#E5ECF6",
          "polar": {
           "angularaxis": {
            "gridcolor": "white",
            "linecolor": "white",
            "ticks": ""
           },
           "bgcolor": "#E5ECF6",
           "radialaxis": {
            "gridcolor": "white",
            "linecolor": "white",
            "ticks": ""
           }
          },
          "scene": {
           "xaxis": {
            "backgroundcolor": "#E5ECF6",
            "gridcolor": "white",
            "gridwidth": 2,
            "linecolor": "white",
            "showbackground": true,
            "ticks": "",
            "zerolinecolor": "white"
           },
           "yaxis": {
            "backgroundcolor": "#E5ECF6",
            "gridcolor": "white",
            "gridwidth": 2,
            "linecolor": "white",
            "showbackground": true,
            "ticks": "",
            "zerolinecolor": "white"
           },
           "zaxis": {
            "backgroundcolor": "#E5ECF6",
            "gridcolor": "white",
            "gridwidth": 2,
            "linecolor": "white",
            "showbackground": true,
            "ticks": "",
            "zerolinecolor": "white"
           }
          },
          "shapedefaults": {
           "line": {
            "color": "#2a3f5f"
           }
          },
          "ternary": {
           "aaxis": {
            "gridcolor": "white",
            "linecolor": "white",
            "ticks": ""
           },
           "baxis": {
            "gridcolor": "white",
            "linecolor": "white",
            "ticks": ""
           },
           "bgcolor": "#E5ECF6",
           "caxis": {
            "gridcolor": "white",
            "linecolor": "white",
            "ticks": ""
           }
          },
          "title": {
           "x": 0.05
          },
          "xaxis": {
           "automargin": true,
           "gridcolor": "white",
           "linecolor": "white",
           "ticks": "",
           "title": {
            "standoff": 15
           },
           "zerolinecolor": "white",
           "zerolinewidth": 2
          },
          "yaxis": {
           "automargin": true,
           "gridcolor": "white",
           "linecolor": "white",
           "ticks": "",
           "title": {
            "standoff": 15
           },
           "zerolinecolor": "white",
           "zerolinewidth": 2
          }
         }
        },
        "title": {
         "text": "Total COVID-19 Cases and Deaths by ZIP Code (Chicago)"
        },
        "xaxis": {
         "anchor": "y",
         "autorange": true,
         "domain": [
          0,
          1
         ],
         "range": [
          -0.5,
          59.5
         ],
         "title": {
          "text": "ZIP Code"
         },
         "type": "category"
        },
        "yaxis": {
         "anchor": "x",
         "autorange": true,
         "domain": [
          0,
          1
         ],
         "range": [
          0,
          1912187.3684210526
         ],
         "title": {
          "text": "Total Count"
         },
         "type": "linear"
        }
       }
      },
      "image/png": "[encoded data removed]",
      "text/html": [
       "<div>                            <div id=\"dcd97128-ff94-4577-8d92-ce2716b25a76\" class=\"plotly-graph-div\" style=\"height:525px; width:100%;\"></div>            <script type=\"text/javascript\">                require([\"plotly\"], function(Plotly) {                    window.PLOTLYENV=window.PLOTLYENV || {};                                    if (document.getElementById(\"dcd97128-ff94-4577-8d92-ce2716b25a76\")) {                    Plotly.newPlot(                        \"dcd97128-ff94-4577-8d92-ce2716b25a76\",                        [{\"alignmentgroup\":\"True\",\"hovertemplate\":\"Metric=cases_cumulative\\u003cbr\\u003eZIP Code=%{x}\\u003cbr\\u003eTotal Count=%{y}\\u003cextra\\u003e\\u003c\\u002fextra\\u003e\",\"legendgroup\":\"cases_cumulative\",\"marker\":{\"color\":\"#636efa\",\"pattern\":{\"shape\":\"\"}},\"name\":\"cases_cumulative\",\"offsetgroup\":\"cases_cumulative\",\"orientation\":\"v\",\"showlegend\":true,\"textposition\":\"auto\",\"x\":[\"60601\",\"60602\",\"60603\",\"60604\",\"60605\",\"60606\",\"60607\",\"60608\",\"60609\",\"60610\",\"60611\",\"60612\",\"60613\",\"60614\",\"60615\",\"60616\",\"60617\",\"60618\",\"60619\",\"60620\",\"60621\",\"60622\",\"60623\",\"60624\",\"60625\",\"60626\",\"60628\",\"60629\",\"60630\",\"60631\",\"60632\",\"60633\",\"60634\",\"60636\",\"60637\",\"60638\",\"60639\",\"60640\",\"60641\",\"60642\",\"60643\",\"60644\",\"60645\",\"60646\",\"60647\",\"60649\",\"60651\",\"60652\",\"60653\",\"60654\",\"60655\",\"60656\",\"60657\",\"60659\",\"60660\",\"60661\",\"60666\",\"60707\",\"60827\",\"Unknown\"],\"xaxis\":\"x\",\"y\":[46834,32148,2286,2520,40188,6553,48420,108947,125573,150895,49654,527105,542650,598292,454344,128229,150400,1458008,143731,420618,146902,917286,339805,881304,1644530,73524,656427,669253,89545,63773,1462055,274972,654425,48032,55166,176680,155741,56992,1816578,512338,116582,41115,77051,941614,125891,434149,96126,55839,580479,31357,54184,45842,101116,525758,95061,15989,1115,43712,6606,86170],\"yaxis\":\"y\",\"type\":\"bar\"},{\"alignmentgroup\":\"True\",\"hovertemplate\":\"Metric=deaths_cumulative\\u003cbr\\u003eZIP Code=%{x}\\u003cbr\\u003eTotal Count=%{y}\\u003cextra\\u003e\\u003c\\u002fextra\\u003e\",\"legendgroup\":\"deaths_cumulative\",\"marker\":{\"color\":\"#EF553B\",\"pattern\":{\"shape\":\"\"}},\"name\":\"deaths_cumulative\",\"offsetgroup\":\"deaths_cumulative\",\"orientation\":\"v\",\"showlegend\":true,\"textposition\":\"auto\",\"x\":[\"60601\",\"60602\",\"60603\",\"60604\",\"60605\",\"60606\",\"60607\",\"60608\",\"60609\",\"60610\",\"60611\",\"60612\",\"60613\",\"60614\",\"60615\",\"60616\",\"60617\",\"60618\",\"60619\",\"60620\",\"60621\",\"60622\",\"60623\",\"60624\",\"60625\",\"60626\",\"60628\",\"60629\",\"60630\",\"60631\",\"60632\",\"60633\",\"60634\",\"60636\",\"60637\",\"60638\",\"60639\",\"60640\",\"60641\",\"60642\",\"60643\",\"60644\",\"60645\",\"60646\",\"60647\",\"60649\",\"60651\",\"60652\",\"60653\",\"60654\",\"60655\",\"60656\",\"60657\",\"60659\",\"60660\",\"60661\",\"60666\",\"60707\",\"60827\",\"Unknown\"],\"xaxis\":\"x\",\"y\":[128,273,0,0,80,55,100,1030,1631,794,155,5624,2955,4983,4177,1456,1839,11987,2194,8223,2944,9203,4424,13823,24034,1090,12682,6835,1035,882,15661,2594,6475,840,436,1872,1600,627,17118,3737,1760,666,805,13657,1001,13141,955,588,8220,45,330,430,340,5722,884,10,0,476,95,318],\"yaxis\":\"y\",\"type\":\"bar\"}],                        {\"template\":{\"data\":{\"histogram2dcontour\":[{\"type\":\"histogram2dcontour\",\"colorbar\":{\"outlinewidth\":0,\"ticks\":\"\"},\"colorscale\":[[0.0,\"#0d0887\"],[0.1111111111111111,\"#46039f\"],[0.2222222222222222,\"#7201a8\"],[0.3333333333333333,\"#9c179e\"],[0.4444444444444444,\"#bd3786\"],[0.5555555555555556,\"#d8576b\"],[0.6666666666666666,\"#ed7953\"],[0.7777777777777778,\"#fb9f3a\"],[0.8888888888888888,\"#fdca26\"],[1.0,\"#f0f921\"]]}],\"choropleth\":[{\"type\":\"choropleth\",\"colorbar\":{\"outlinewidth\":0,\"ticks\":\"\"}}],\"histogram2d\":[{\"type\":\"histogram2d\",\"colorbar\":{\"outlinewidth\":0,\"ticks\":\"\"},\"colorscale\":[[0.0,\"#0d0887\"],[0.1111111111111111,\"#46039f\"],[0.2222222222222222,\"#7201a8\"],[0.3333333333333333,\"#9c179e\"],[0.4444444444444444,\"#bd3786\"],[0.5555555555555556,\"#d8576b\"],[0.6666666666666666,\"#ed7953\"],[0.7777777777777778,\"#fb9f3a\"],[0.8888888888888888,\"#fdca26\"],[1.0,\"#f0f921\"]]}],\"heatmap\":[{\"type\":\"heatmap\",\"colorbar\":{\"outlinewidth\":0,\"ticks\":\"\"},\"colorscale\":[[0.0,\"#0d0887\"],[0.1111111111111111,\"#46039f\"],[0.2222222222222222,\"#7201a8\"],[0.3333333333333333,\"#9c179e\"],[0.4444444444444444,\"#bd3786\"],[0.5555555555555556,\"#d8576b\"],[0.6666666666666666,\"#ed7953\"],[0.7777777777777778,\"#fb9f3a\"],[0.8888888888888888,\"#fdca26\"],[1.0,\"#f0f921\"]]}],\"heatmapgl\":[{\"type\":\"heatmapgl\",\"colorbar\":{\"outlinewidth\":0,\"ticks\":\"\"},\"colorscale\":[[0.0,\"#0d0887\"],[0.1111111111111111,\"#46039f\"],[0.2222222222222222,\"#7201a8\"],[0.3333333333333333,\"#9c179e\"],[0.4444444444444444,\"#bd3786\"],[0.5555555555555556,\"#d8576b\"],[0.6666666666666666,\"#ed7953\"],[0.7777777777777778,\"#fb9f3a\"],[0.8888888888888888,\"#fdca26\"],[1.0,\"#f0f921\"]]}],\"contourcarpet\":[{\"type\":\"contourcarpet\",\"colorbar\":{\"outlinewidth\":0,\"ticks\":\"\"}}],\"contour\":[{\"type\":\"contour\",\"colorbar\":{\"outlinewidth\":0,\"ticks\":\"\"},\"colorscale\":[[0.0,\"#0d0887\"],[0.1111111111111111,\"#46039f\"],[0.2222222222222222,\"#7201a8\"],[0.3333333333333333,\"#9c179e\"],[0.4444444444444444,\"#bd3786\"],[0.5555555555555556,\"#d8576b\"],[0.6666666666666666,\"#ed7953\"],[0.7777777777777778,\"#fb9f3a\"],[0.8888888888888888,\"#fdca26\"],[1.0,\"#f0f921\"]]}],\"surface\":[{\"type\":\"surface\",\"colorbar\":{\"outlinewidth\":0,\"ticks\":\"\"},\"colorscale\":[[0.0,\"#0d0887\"],[0.1111111111111111,\"#46039f\"],[0.2222222222222222,\"#7201a8\"],[0.3333333333333333,\"#9c179e\"],[0.4444444444444444,\"#bd3786\"],[0.5555555555555556,\"#d8576b\"],[0.6666666666666666,\"#ed7953\"],[0.7777777777777778,\"#fb9f3a\"],[0.8888888888888888,\"#fdca26\"],[1.0,\"#f0f921\"]]}],\"mesh3d\":[{\"type\":\"mesh3d\",\"colorbar\":{\"outlinewidth\":0,\"ticks\":\"\"}}],\"scatter\":[{\"fillpattern\":{\"fillmode\":\"overlay\",\"size\":10,\"solidity\":0.2},\"type\":\"scatter\"}],\"parcoords\":[{\"type\":\"parcoords\",\"line\":{\"colorbar\":{\"outlinewidth\":0,\"ticks\":\"\"}}}],\"scatterpolargl\":[{\"type\":\"scatterpolargl\",\"marker\":{\"colorbar\":{\"outlinewidth\":0,\"ticks\":\"\"}}}],\"bar\":[{\"error_x\":{\"color\":\"#2a3f5f\"},\"error_y\":{\"color\":\"#2a3f5f\"},\"marker\":{\"line\":{\"color\":\"#E5ECF6\",\"width\":0.5},\"pattern\":{\"fillmode\":\"overlay\",\"size\":10,\"solidity\":0.2}},\"type\":\"bar\"}],\"scattergeo\":[{\"type\":\"scattergeo\",\"marker\":{\"colorbar\":{\"outlinewidth\":0,\"ticks\":\"\"}}}],\"scatterpolar\":[{\"type\":\"scatterpolar\",\"marker\":{\"colorbar\":{\"outlinewidth\":0,\"ticks\":\"\"}}}],\"histogram\":[{\"marker\":{\"pattern\":{\"fillmode\":\"overlay\",\"size\":10,\"solidity\":0.2}},\"type\":\"histogram\"}],\"scattergl\":[{\"type\":\"scattergl\",\"marker\":{\"colorbar\":{\"outlinewidth\":0,\"ticks\":\"\"}}}],\"scatter3d\":[{\"type\":\"scatter3d\",\"line\":{\"colorbar\":{\"outlinewidth\":0,\"ticks\":\"\"}},\"marker\":{\"colorbar\":{\"outlinewidth\":0,\"ticks\":\"\"}}}],\"scattermapbox\":[{\"type\":\"scattermapbox\",\"marker\":{\"colorbar\":{\"outlinewidth\":0,\"ticks\":\"\"}}}],\"scatterternary\":[{\"type\":\"scatterternary\",\"marker\":{\"colorbar\":{\"outlinewidth\":0,\"ticks\":\"\"}}}],\"scattercarpet\":[{\"type\":\"scattercarpet\",\"marker\":{\"colorbar\":{\"outlinewidth\":0,\"ticks\":\"\"}}}],\"carpet\":[{\"aaxis\":{\"endlinecolor\":\"#2a3f5f\",\"gridcolor\":\"white\",\"linecolor\":\"white\",\"minorgridcolor\":\"white\",\"startlinecolor\":\"#2a3f5f\"},\"baxis\":{\"endlinecolor\":\"#2a3f5f\",\"gridcolor\":\"white\",\"linecolor\":\"white\",\"minorgridcolor\":\"white\",\"startlinecolor\":\"#2a3f5f\"},\"type\":\"carpet\"}],\"table\":[{\"cells\":{\"fill\":{\"color\":\"#EBF0F8\"},\"line\":{\"color\":\"white\"}},\"header\":{\"fill\":{\"color\":\"#C8D4E3\"},\"line\":{\"color\":\"white\"}},\"type\":\"table\"}],\"barpolar\":[{\"marker\":{\"line\":{\"color\":\"#E5ECF6\",\"width\":0.5},\"pattern\":{\"fillmode\":\"overlay\",\"size\":10,\"solidity\":0.2}},\"type\":\"barpolar\"}],\"pie\":[{\"automargin\":true,\"type\":\"pie\"}]},\"layout\":{\"autotypenumbers\":\"strict\",\"colorway\":[\"#636efa\",\"#EF553B\",\"#00cc96\",\"#ab63fa\",\"#FFA15A\",\"#19d3f3\",\"#FF6692\",\"#B6E880\",\"#FF97FF\",\"#FECB52\"],\"font\":{\"color\":\"#2a3f5f\"},\"hovermode\":\"closest\",\"hoverlabel\":{\"align\":\"left\"},\"paper_bgcolor\":\"white\",\"plot_bgcolor\":\"#E5ECF6\",\"polar\":{\"bgcolor\":\"#E5ECF6\",\"angularaxis\":{\"gridcolor\":\"white\",\"linecolor\":\"white\",\"ticks\":\"\"},\"radialaxis\":{\"gridcolor\":\"white\",\"linecolor\":\"white\",\"ticks\":\"\"}},\"ternary\":{\"bgcolor\":\"#E5ECF6\",\"aaxis\":{\"gridcolor\":\"white\",\"linecolor\":\"white\",\"ticks\":\"\"},\"baxis\":{\"gridcolor\":\"white\",\"linecolor\":\"white\",\"ticks\":\"\"},\"caxis\":{\"gridcolor\":\"white\",\"linecolor\":\"white\",\"ticks\":\"\"}},\"coloraxis\":{\"colorbar\":{\"outlinewidth\":0,\"ticks\":\"\"}},\"colorscale\":{\"sequential\":[[0.0,\"#0d0887\"],[0.1111111111111111,\"#46039f\"],[0.2222222222222222,\"#7201a8\"],[0.3333333333333333,\"#9c179e\"],[0.4444444444444444,\"#bd3786\"],[0.5555555555555556,\"#d8576b\"],[0.6666666666666666,\"#ed7953\"],[0.7777777777777778,\"#fb9f3a\"],[0.8888888888888888,\"#fdca26\"],[1.0,\"#f0f921\"]],\"sequentialminus\":[[0.0,\"#0d0887\"],[0.1111111111111111,\"#46039f\"],[0.2222222222222222,\"#7201a8\"],[0.3333333333333333,\"#9c179e\"],[0.4444444444444444,\"#bd3786\"],[0.5555555555555556,\"#d8576b\"],[0.6666666666666666,\"#ed7953\"],[0.7777777777777778,\"#fb9f3a\"],[0.8888888888888888,\"#fdca26\"],[1.0,\"#f0f921\"]],\"diverging\":[[0,\"#8e0152\"],[0.1,\"#c51b7d\"],[0.2,\"#de77ae\"],[0.3,\"#f1b6da\"],[0.4,\"#fde0ef\"],[0.5,\"#f7f7f7\"],[0.6,\"#e6f5d0\"],[0.7,\"#b8e186\"],[0.8,\"#7fbc41\"],[0.9,\"#4d9221\"],[1,\"#276419\"]]},\"xaxis\":{\"gridcolor\":\"white\",\"linecolor\":\"white\",\"ticks\":\"\",\"title\":{\"standoff\":15},\"zerolinecolor\":\"white\",\"automargin\":true,\"zerolinewidth\":2},\"yaxis\":{\"gridcolor\":\"white\",\"linecolor\":\"white\",\"ticks\":\"\",\"title\":{\"standoff\":15},\"zerolinecolor\":\"white\",\"automargin\":true,\"zerolinewidth\":2},\"scene\":{\"xaxis\":{\"backgroundcolor\":\"#E5ECF6\",\"gridcolor\":\"white\",\"linecolor\":\"white\",\"showbackground\":true,\"ticks\":\"\",\"zerolinecolor\":\"white\",\"gridwidth\":2},\"yaxis\":{\"backgroundcolor\":\"#E5ECF6\",\"gridcolor\":\"white\",\"linecolor\":\"white\",\"showbackground\":true,\"ticks\":\"\",\"zerolinecolor\":\"white\",\"gridwidth\":2},\"zaxis\":{\"backgroundcolor\":\"#E5ECF6\",\"gridcolor\":\"white\",\"linecolor\":\"white\",\"showbackground\":true,\"ticks\":\"\",\"zerolinecolor\":\"white\",\"gridwidth\":2}},\"shapedefaults\":{\"line\":{\"color\":\"#2a3f5f\"}},\"annotationdefaults\":{\"arrowcolor\":\"#2a3f5f\",\"arrowhead\":0,\"arrowwidth\":1},\"geo\":{\"bgcolor\":\"white\",\"landcolor\":\"#E5ECF6\",\"subunitcolor\":\"white\",\"showland\":true,\"showlakes\":true,\"lakecolor\":\"white\"},\"title\":{\"x\":0.05},\"mapbox\":{\"style\":\"light\"}}},\"xaxis\":{\"anchor\":\"y\",\"domain\":[0.0,1.0],\"title\":{\"text\":\"ZIP Code\"}},\"yaxis\":{\"anchor\":\"x\",\"domain\":[0.0,1.0],\"title\":{\"text\":\"Total Count\"}},\"legend\":{\"title\":{\"text\":\"Metric\"},\"tracegroupgap\":0},\"title\":{\"text\":\"Total COVID-19 Cases and Deaths by ZIP Code (Chicago)\"},\"barmode\":\"group\"},                        {\"responsive\": true}                    ).then(function(){\n",
       "                            \n",
       "var gd = document.getElementById('dcd97128-ff94-4577-8d92-ce2716b25a76');\n",
       "var x = new MutationObserver(function (mutations, observer) {{\n",
       "        var display = window.getComputedStyle(gd).display;\n",
       "        if (!display || display === 'none') {{\n",
       "            console.log([gd, 'removed!']);\n",
       "            Plotly.purge(gd);\n",
       "            observer.disconnect();\n",
       "        }}\n",
       "}});\n",
       "\n",
       "// Listen for the removal of the full notebook cells\n",
       "var notebookContainer = gd.closest('#notebook-container');\n",
       "if (notebookContainer) {{\n",
       "    x.observe(notebookContainer, {childList: true});\n",
       "}}\n",
       "\n",
       "// Listen for the clearing of the current output cell\n",
       "var outputEl = gd.closest('.output');\n",
       "if (outputEl) {{\n",
       "    x.observe(outputEl, {childList: true});\n",
       "}}\n",
       "\n",
       "                        })                };                });            </script>        </div>"
      ]
     },
     "metadata": {},
     "output_type": "display_data"
    }
   ],
   "source": [
    "#still not getting accurate representation with cleaned data set\n",
    "\n",
    "import plotly.express as px\n",
    "\n",
    "# transform for grouped bar chart format\n",
    "df_long = df_covid_totals.melt(id_vars=\"zip_code\", value_vars=[\"cases_cumulative\", \"deaths_cumulative\"],\n",
    "                      var_name=\"Metric\", value_name=\"Total\")\n",
    "\n",
    "# Create grouped bar chart\n",
    "fig = px.bar(df_long, x=\"zip_code\", y=\"Total\", color=\"Metric\", barmode=\"group\",\n",
    "             title=\"Total COVID-19 Cases and Deaths by ZIP Code (Chicago)\",\n",
    "             labels={\"zip_code\": \"ZIP Code\", \"Total\": \"Total Count\", \"Metric\": \"Metric\"})\n",
    "\n",
    "fig.show()"
   ]
  },
  {
   "cell_type": "code",
   "execution_count": 37,
   "id": "da6f4fe0-ef58-4070-a190-ae45cdbac5cc",
   "metadata": {},
   "outputs": [
    {
     "data": {
      "text/html": [
       "<div>\n",
       "<style scoped>\n",
       "    .dataframe tbody tr th:only-of-type {\n",
       "        vertical-align: middle;\n",
       "    }\n",
       "\n",
       "    .dataframe tbody tr th {\n",
       "        vertical-align: top;\n",
       "    }\n",
       "\n",
       "    .dataframe thead th {\n",
       "        text-align: right;\n",
       "    }\n",
       "</style>\n",
       "<table border=\"1\" class=\"dataframe\">\n",
       "  <thead>\n",
       "    <tr style=\"text-align: right;\">\n",
       "      <th></th>\n",
       "      <th>cause_of_death</th>\n",
       "      <th>community_area</th>\n",
       "      <th>community_area_name</th>\n",
       "      <th>cumulative_deaths_2004_2008</th>\n",
       "      <th>cumulative_deaths_rank</th>\n",
       "      <th>average_annual_deaths_2004_2008</th>\n",
       "      <th>average_crude_rate_2004_2008</th>\n",
       "      <th>crude_rate_lower_ci</th>\n",
       "      <th>crude_rate_upper_ci</th>\n",
       "      <th>crude_rate_rank</th>\n",
       "      <th>average_adjusted_rate_2004_2008</th>\n",
       "      <th>adjusted_rate_lower_ci</th>\n",
       "      <th>adjusted_rate_upper_ci</th>\n",
       "      <th>adjusted_rate_rank</th>\n",
       "      <th>average_annual_years_of_potential_life_lost_rate_2004_2008</th>\n",
       "      <th>ypll_rate_rank</th>\n",
       "      <th>warning</th>\n",
       "    </tr>\n",
       "  </thead>\n",
       "  <tbody>\n",
       "    <tr>\n",
       "      <th>0</th>\n",
       "      <td>All Causes</td>\n",
       "      <td>1</td>\n",
       "      <td>Rogers Park</td>\n",
       "      <td>1741</td>\n",
       "      <td>22</td>\n",
       "      <td>348</td>\n",
       "      <td>614.2</td>\n",
       "      <td>585.3</td>\n",
       "      <td>643.1</td>\n",
       "      <td>51</td>\n",
       "      <td>895.2</td>\n",
       "      <td>852.2</td>\n",
       "      <td>939.3</td>\n",
       "      <td>29</td>\n",
       "      <td>7128</td>\n",
       "      <td>37</td>\n",
       "      <td>NaN</td>\n",
       "    </tr>\n",
       "    <tr>\n",
       "      <th>1</th>\n",
       "      <td>All Causes</td>\n",
       "      <td>2</td>\n",
       "      <td>West Ridge</td>\n",
       "      <td>2612</td>\n",
       "      <td>5</td>\n",
       "      <td>522</td>\n",
       "      <td>723.6</td>\n",
       "      <td>695.8</td>\n",
       "      <td>751.4</td>\n",
       "      <td>42</td>\n",
       "      <td>689.9</td>\n",
       "      <td>663.3</td>\n",
       "      <td>717.1</td>\n",
       "      <td>58</td>\n",
       "      <td>6123</td>\n",
       "      <td>49</td>\n",
       "      <td>NaN</td>\n",
       "    </tr>\n",
       "    <tr>\n",
       "      <th>2</th>\n",
       "      <td>All Causes</td>\n",
       "      <td>3</td>\n",
       "      <td>Uptown</td>\n",
       "      <td>2542</td>\n",
       "      <td>6</td>\n",
       "      <td>508</td>\n",
       "      <td>879.6</td>\n",
       "      <td>845.4</td>\n",
       "      <td>913.8</td>\n",
       "      <td>31</td>\n",
       "      <td>934</td>\n",
       "      <td>897.5</td>\n",
       "      <td>971.2</td>\n",
       "      <td>24</td>\n",
       "      <td>9147</td>\n",
       "      <td>31</td>\n",
       "      <td>NaN</td>\n",
       "    </tr>\n",
       "    <tr>\n",
       "      <th>3</th>\n",
       "      <td>All Causes</td>\n",
       "      <td>4</td>\n",
       "      <td>Lincoln Square</td>\n",
       "      <td>1108</td>\n",
       "      <td>40</td>\n",
       "      <td>222</td>\n",
       "      <td>547</td>\n",
       "      <td>514.8</td>\n",
       "      <td>579.2</td>\n",
       "      <td>60</td>\n",
       "      <td>698.7</td>\n",
       "      <td>657.4</td>\n",
       "      <td>741.3</td>\n",
       "      <td>53</td>\n",
       "      <td>5344</td>\n",
       "      <td>62</td>\n",
       "      <td>NaN</td>\n",
       "    </tr>\n",
       "    <tr>\n",
       "      <th>4</th>\n",
       "      <td>All Causes</td>\n",
       "      <td>5</td>\n",
       "      <td>North Center</td>\n",
       "      <td>690</td>\n",
       "      <td>59</td>\n",
       "      <td>138</td>\n",
       "      <td>433</td>\n",
       "      <td>400.7</td>\n",
       "      <td>465.3</td>\n",
       "      <td>68</td>\n",
       "      <td>681.2</td>\n",
       "      <td>630.1</td>\n",
       "      <td>734.3</td>\n",
       "      <td>61</td>\n",
       "      <td>4058</td>\n",
       "      <td>74</td>\n",
       "      <td>NaN</td>\n",
       "    </tr>\n",
       "    <tr>\n",
       "      <th>...</th>\n",
       "      <td>...</td>\n",
       "      <td>...</td>\n",
       "      <td>...</td>\n",
       "      <td>...</td>\n",
       "      <td>...</td>\n",
       "      <td>...</td>\n",
       "      <td>...</td>\n",
       "      <td>...</td>\n",
       "      <td>...</td>\n",
       "      <td>...</td>\n",
       "      <td>...</td>\n",
       "      <td>...</td>\n",
       "      <td>...</td>\n",
       "      <td>...</td>\n",
       "      <td>...</td>\n",
       "      <td>...</td>\n",
       "      <td>...</td>\n",
       "    </tr>\n",
       "    <tr>\n",
       "      <th>1399</th>\n",
       "      <td>Suicide (intentional self-harm)</td>\n",
       "      <td>74</td>\n",
       "      <td>Mount Greenwood</td>\n",
       "      <td>6</td>\n",
       "      <td>51</td>\n",
       "      <td>1</td>\n",
       "      <td>6.3</td>\n",
       "      <td>2.3</td>\n",
       "      <td>13.7</td>\n",
       "      <td>37</td>\n",
       "      <td>6.4</td>\n",
       "      <td>2.3</td>\n",
       "      <td>12.5</td>\n",
       "      <td>38</td>\n",
       "      <td>181</td>\n",
       "      <td>43</td>\n",
       "      <td>Rate, confidence interval, and YPLL estimates ...</td>\n",
       "    </tr>\n",
       "    <tr>\n",
       "      <th>1400</th>\n",
       "      <td>Suicide (intentional self-harm)</td>\n",
       "      <td>75</td>\n",
       "      <td>Morgan Park</td>\n",
       "      <td>4</td>\n",
       "      <td>61</td>\n",
       "      <td>1</td>\n",
       "      <td>3.5</td>\n",
       "      <td>1</td>\n",
       "      <td>9</td>\n",
       "      <td>65</td>\n",
       "      <td>3.9</td>\n",
       "      <td>1.1</td>\n",
       "      <td>8.6</td>\n",
       "      <td>62</td>\n",
       "      <td>175</td>\n",
       "      <td>47</td>\n",
       "      <td>Rate, confidence interval, and YPLL estimates ...</td>\n",
       "    </tr>\n",
       "    <tr>\n",
       "      <th>1401</th>\n",
       "      <td>Suicide (intentional self-harm)</td>\n",
       "      <td>76</td>\n",
       "      <td>O'Hare</td>\n",
       "      <td>8</td>\n",
       "      <td>40</td>\n",
       "      <td>2</td>\n",
       "      <td>12.7</td>\n",
       "      <td>5.5</td>\n",
       "      <td>25</td>\n",
       "      <td>1</td>\n",
       "      <td>13.3</td>\n",
       "      <td>5.6</td>\n",
       "      <td>24.1</td>\n",
       "      <td>2</td>\n",
       "      <td>349</td>\n",
       "      <td>7</td>\n",
       "      <td>Rate, confidence interval, and YPLL estimates ...</td>\n",
       "    </tr>\n",
       "    <tr>\n",
       "      <th>1402</th>\n",
       "      <td>Suicide (intentional self-harm)</td>\n",
       "      <td>77</td>\n",
       "      <td>Edgewater</td>\n",
       "      <td>32</td>\n",
       "      <td>4</td>\n",
       "      <td>6</td>\n",
       "      <td>11.1</td>\n",
       "      <td>7.6</td>\n",
       "      <td>15.7</td>\n",
       "      <td>7</td>\n",
       "      <td>10.1</td>\n",
       "      <td>6.9</td>\n",
       "      <td>13.9</td>\n",
       "      <td>9</td>\n",
       "      <td>332</td>\n",
       "      <td>11</td>\n",
       "      <td>NaN</td>\n",
       "    </tr>\n",
       "    <tr>\n",
       "      <th>1403</th>\n",
       "      <td>Suicide (intentional self-harm)</td>\n",
       "      <td>0</td>\n",
       "      <td>Chicago</td>\n",
       "      <td>886</td>\n",
       "      <td>NaN</td>\n",
       "      <td>177</td>\n",
       "      <td>6.5</td>\n",
       "      <td>6.1</td>\n",
       "      <td>6.9</td>\n",
       "      <td>NaN</td>\n",
       "      <td>6.5</td>\n",
       "      <td>6.1</td>\n",
       "      <td>6.9</td>\n",
       "      <td>NaN</td>\n",
       "      <td>211</td>\n",
       "      <td>NaN</td>\n",
       "      <td>NaN</td>\n",
       "    </tr>\n",
       "  </tbody>\n",
       "</table>\n",
       "<p>1404 rows × 17 columns</p>\n",
       "</div>"
      ],
      "text/plain": [
       "                       cause_of_death community_area community_area_name  \\\n",
       "0                          All Causes              1         Rogers Park   \n",
       "1                          All Causes              2          West Ridge   \n",
       "2                          All Causes              3              Uptown   \n",
       "3                          All Causes              4      Lincoln Square   \n",
       "4                          All Causes              5        North Center   \n",
       "...                               ...            ...                 ...   \n",
       "1399  Suicide (intentional self-harm)             74     Mount Greenwood   \n",
       "1400  Suicide (intentional self-harm)             75         Morgan Park   \n",
       "1401  Suicide (intentional self-harm)             76              O'Hare   \n",
       "1402  Suicide (intentional self-harm)             77           Edgewater   \n",
       "1403  Suicide (intentional self-harm)              0             Chicago   \n",
       "\n",
       "     cumulative_deaths_2004_2008 cumulative_deaths_rank  \\\n",
       "0                           1741                     22   \n",
       "1                           2612                      5   \n",
       "2                           2542                      6   \n",
       "3                           1108                     40   \n",
       "4                            690                     59   \n",
       "...                          ...                    ...   \n",
       "1399                           6                     51   \n",
       "1400                           4                     61   \n",
       "1401                           8                     40   \n",
       "1402                          32                      4   \n",
       "1403                         886                    NaN   \n",
       "\n",
       "     average_annual_deaths_2004_2008 average_crude_rate_2004_2008  \\\n",
       "0                                348                        614.2   \n",
       "1                                522                        723.6   \n",
       "2                                508                        879.6   \n",
       "3                                222                          547   \n",
       "4                                138                          433   \n",
       "...                              ...                          ...   \n",
       "1399                               1                          6.3   \n",
       "1400                               1                          3.5   \n",
       "1401                               2                         12.7   \n",
       "1402                               6                         11.1   \n",
       "1403                             177                          6.5   \n",
       "\n",
       "     crude_rate_lower_ci crude_rate_upper_ci crude_rate_rank  \\\n",
       "0                  585.3               643.1              51   \n",
       "1                  695.8               751.4              42   \n",
       "2                  845.4               913.8              31   \n",
       "3                  514.8               579.2              60   \n",
       "4                  400.7               465.3              68   \n",
       "...                  ...                 ...             ...   \n",
       "1399                 2.3                13.7              37   \n",
       "1400                   1                   9              65   \n",
       "1401                 5.5                  25               1   \n",
       "1402                 7.6                15.7               7   \n",
       "1403                 6.1                 6.9             NaN   \n",
       "\n",
       "     average_adjusted_rate_2004_2008 adjusted_rate_lower_ci  \\\n",
       "0                              895.2                  852.2   \n",
       "1                              689.9                  663.3   \n",
       "2                                934                  897.5   \n",
       "3                              698.7                  657.4   \n",
       "4                              681.2                  630.1   \n",
       "...                              ...                    ...   \n",
       "1399                             6.4                    2.3   \n",
       "1400                             3.9                    1.1   \n",
       "1401                            13.3                    5.6   \n",
       "1402                            10.1                    6.9   \n",
       "1403                             6.5                    6.1   \n",
       "\n",
       "     adjusted_rate_upper_ci adjusted_rate_rank  \\\n",
       "0                     939.3                 29   \n",
       "1                     717.1                 58   \n",
       "2                     971.2                 24   \n",
       "3                     741.3                 53   \n",
       "4                     734.3                 61   \n",
       "...                     ...                ...   \n",
       "1399                   12.5                 38   \n",
       "1400                    8.6                 62   \n",
       "1401                   24.1                  2   \n",
       "1402                   13.9                  9   \n",
       "1403                    6.9                NaN   \n",
       "\n",
       "     average_annual_years_of_potential_life_lost_rate_2004_2008  \\\n",
       "0                                                  7128           \n",
       "1                                                  6123           \n",
       "2                                                  9147           \n",
       "3                                                  5344           \n",
       "4                                                  4058           \n",
       "...                                                 ...           \n",
       "1399                                                181           \n",
       "1400                                                175           \n",
       "1401                                                349           \n",
       "1402                                                332           \n",
       "1403                                                211           \n",
       "\n",
       "     ypll_rate_rank                                            warning  \n",
       "0                37                                                NaN  \n",
       "1                49                                                NaN  \n",
       "2                31                                                NaN  \n",
       "3                62                                                NaN  \n",
       "4                74                                                NaN  \n",
       "...             ...                                                ...  \n",
       "1399             43  Rate, confidence interval, and YPLL estimates ...  \n",
       "1400             47  Rate, confidence interval, and YPLL estimates ...  \n",
       "1401              7  Rate, confidence interval, and YPLL estimates ...  \n",
       "1402             11                                                NaN  \n",
       "1403            NaN                                                NaN  \n",
       "\n",
       "[1404 rows x 17 columns]"
      ]
     },
     "execution_count": 37,
     "metadata": {},
     "output_type": "execute_result"
    }
   ],
   "source": [
    "#Chicago Drug-related Mortality Data:\n",
    "import pandas as pd\n",
    "from sodapy import Socrata\n",
    "\n",
    "client = Socrata(\"data.cityofchicago.org\",\n",
    "                 \"Y4HZT9oYB9HgwoYrJfSANZYJB\",\n",
    "                 username=\"afran190@pratt.edu\",\n",
    "                 password=\"Zeusie1219055*\")\n",
    "\n",
    "results_drug = client.get(\"j6cj-r444\", limit=2000)\n",
    "\n",
    "\n",
    "results_df_drug = pd.DataFrame.from_records(results_drug)\n",
    "\n",
    "results_df_drug"
   ]
  },
  {
   "cell_type": "code",
   "execution_count": 39,
   "id": "e52e5e58-1f23-48d1-aa51-a9b981ecb723",
   "metadata": {},
   "outputs": [
    {
     "data": {
      "text/plain": [
       "cause_of_death\n",
       "All Causes                                                      78\n",
       "All causes in females                                           78\n",
       "Stroke (cerebrovascular disease)                                78\n",
       "Prostate cancer in males                                        78\n",
       "Lung cancer                                                     78\n",
       "Liver disease and cirrhosis                                     78\n",
       "Kidney disease (nephritis, nephrotic syndrome and nephrosis)    78\n",
       "Injury, unintentional                                           78\n",
       "Firearm-related                                                 78\n",
       "Diabetes-related                                                78\n",
       "Coronary heart disease                                          78\n",
       "Colorectal cancer                                               78\n",
       "Cancer (all sites)                                              78\n",
       "Breast cancer in females                                        78\n",
       "Assault (homicide)                                              78\n",
       "Alzheimers disease                                              78\n",
       "All causes in males                                             78\n",
       "Suicide (intentional self-harm)                                 78\n",
       "Name: count, dtype: int64"
      ]
     },
     "execution_count": 39,
     "metadata": {},
     "output_type": "execute_result"
    }
   ],
   "source": [
    "#trying to find if there is any data for drug related deaths\n",
    "\n",
    "results_df_drug.value_counts('cause_of_death')"
   ]
  },
  {
   "cell_type": "code",
   "execution_count": null,
   "id": "50788e36-8a2b-41c0-b56d-e4126cff0800",
   "metadata": {},
   "outputs": [],
   "source": [
    "#no  noted drug realated deaths tracked"
   ]
  },
  {
   "cell_type": "code",
   "execution_count": 41,
   "id": "0d46e777-a2bf-46ba-802b-1fe7a56fd731",
   "metadata": {},
   "outputs": [],
   "source": [
    "results_df_drug.to_csv('Chicago_drug_data_none.csv')"
   ]
  }
 ],
 "metadata": {
  "kernelspec": {
   "display_name": "Python [conda env:base] *",
   "language": "python",
   "name": "conda-base-py"
  },
  "language_info": {
   "codemirror_mode": {
    "name": "ipython",
    "version": 3
   },
   "file_extension": ".py",
   "mimetype": "text/x-python",
   "name": "python",
   "nbconvert_exporter": "python",
   "pygments_lexer": "ipython3",
   "version": "3.12.2"
  }
 },
 "nbformat": 4,
 "nbformat_minor": 5
}
